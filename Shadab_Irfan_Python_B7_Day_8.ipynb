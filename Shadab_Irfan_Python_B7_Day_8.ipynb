{
  "nbformat": 4,
  "nbformat_minor": 0,
  "metadata": {
    "colab": {
      "name": "Shadab Irfan Python B7 Day 8.ipynb",
      "provenance": [],
      "collapsed_sections": [],
      "authorship_tag": "ABX9TyOLF8tpPK2FqS430jR07l5i",
      "include_colab_link": true
    },
    "kernelspec": {
      "name": "python3",
      "display_name": "Python 3"
    }
  },
  "cells": [
    {
      "cell_type": "markdown",
      "metadata": {
        "id": "view-in-github",
        "colab_type": "text"
      },
      "source": [
        "<a href=\"https://colab.research.google.com/github/Shadab710/LetsUpgradePythonB7/blob/master/Shadab_Irfan_Python_B7_Day_8.ipynb\" target=\"_parent\"><img src=\"https://colab.research.google.com/assets/colab-badge.svg\" alt=\"Open In Colab\"/></a>"
      ]
    },
    {
      "cell_type": "code",
      "metadata": {
        "id": "YH1deQD10QOD",
        "colab_type": "code",
        "colab": {}
      },
      "source": [
        "#Shadab Irfan Python B7 Day 8\n"
      ],
      "execution_count": null,
      "outputs": []
    },
    {
      "cell_type": "code",
      "metadata": {
        "id": "uP7bFkq80eAs",
        "colab_type": "code",
        "colab": {}
      },
      "source": [
        "#Assignment 1"
      ],
      "execution_count": null,
      "outputs": []
    },
    {
      "cell_type": "code",
      "metadata": {
        "id": "L8bCs3Ss0kZn",
        "colab_type": "code",
        "colab": {}
      },
      "source": [
        "def memoize(obj):\n",
        "    cache = {}\n",
        "\n",
        "    def memoizer(*args, **kwargs):\n",
        "        if args not in cache:\n",
        "            cache[args] = obj(*args, **kwargs)\n",
        "        return cache[args]\n",
        "\n",
        "    return memoizer\n",
        "\n",
        "\n",
        "@memoize\n",
        "def fib(n):\n",
        "    if n < 2:\n",
        "        return n \n",
        "    else:\n",
        "        return fib(n - 1) + fib(n - 2)"
      ],
      "execution_count": null,
      "outputs": []
    },
    {
      "cell_type": "code",
      "metadata": {
        "id": "xuBhUbsR0sf6",
        "colab_type": "code",
        "colab": {
          "base_uri": "https://localhost:8080/",
          "height": 34
        },
        "outputId": "77655344-14e2-4aac-aa6a-ed382c543ada"
      },
      "source": [
        "fib(6)"
      ],
      "execution_count": null,
      "outputs": [
        {
          "output_type": "execute_result",
          "data": {
            "text/plain": [
              "8"
            ]
          },
          "metadata": {
            "tags": []
          },
          "execution_count": 2
        }
      ]
    },
    {
      "cell_type": "code",
      "metadata": {
        "id": "3Gv9vrQ60xPv",
        "colab_type": "code",
        "colab": {}
      },
      "source": [
        "#Assignment 2"
      ],
      "execution_count": null,
      "outputs": []
    },
    {
      "cell_type": "code",
      "metadata": {
        "id": "PRRBOsi50zga",
        "colab_type": "code",
        "colab": {
          "base_uri": "https://localhost:8080/",
          "height": 34
        },
        "outputId": "da75f02b-e80d-4bf7-ec97-532300dfefdc"
      },
      "source": [
        "try:\n",
        "    file=open(\"Myfile.txt\",\"r\")\n",
        "    file.write(\"hello in python\")\n",
        "    file.close\n",
        "except Exception as e:\n",
        "    print(\"you are writing in a file that is open in read mode\",e)\n"
      ],
      "execution_count": null,
      "outputs": [
        {
          "output_type": "stream",
          "text": [
            "you are writing in a file that is open in read mode [Errno 2] No such file or directory: 'Myfile.txt'\n"
          ],
          "name": "stdout"
        }
      ]
    }
  ]
}