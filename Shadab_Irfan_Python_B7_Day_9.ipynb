{
  "nbformat": 4,
  "nbformat_minor": 0,
  "metadata": {
    "colab": {
      "name": "Shadab Irfan Python B7 Day 9.ipynb",
      "provenance": [],
      "include_colab_link": true
    },
    "kernelspec": {
      "name": "python3",
      "display_name": "Python 3"
    }
  },
  "cells": [
    {
      "cell_type": "markdown",
      "metadata": {
        "id": "view-in-github",
        "colab_type": "text"
      },
      "source": [
        "<a href=\"https://colab.research.google.com/github/Shadab710/LetsUpgradePythonB7/blob/master/Shadab_Irfan_Python_B7_Day_9.ipynb\" target=\"_parent\"><img src=\"https://colab.research.google.com/assets/colab-badge.svg\" alt=\"Open In Colab\"/></a>"
      ]
    },
    {
      "cell_type": "code",
      "metadata": {
        "id": "RW2pHGYnqCdj",
        "colab_type": "code",
        "colab": {}
      },
      "source": [
        "#Shadab Irfan Python B7-Day 9"
      ],
      "execution_count": null,
      "outputs": []
    },
    {
      "cell_type": "code",
      "metadata": {
        "id": "QA3OV8gLqNOU",
        "colab_type": "code",
        "colab": {}
      },
      "source": [
        "Assignment 1"
      ],
      "execution_count": null,
      "outputs": []
    },
    {
      "cell_type": "code",
      "metadata": {
        "id": "GrSixIR1qP5f",
        "colab_type": "code",
        "colab": {
          "base_uri": "https://localhost:8080/",
          "height": 411
        },
        "outputId": "b1213c4e-56af-44ca-aac0-49e9b7cdb3af"
      },
      "source": [
        " ! pip install pylint\n",
        " "
      ],
      "execution_count": null,
      "outputs": [
        {
          "output_type": "stream",
          "text": [
            "Collecting pylint\n",
            "\u001b[?25l  Downloading https://files.pythonhosted.org/packages/fb/13/519c1264a134beab2be4bac8dd3e64948980a5ca7833b31cf0255b21f20a/pylint-2.6.0-py3-none-any.whl (325kB)\n",
            "\u001b[K     |████████████████████████████████| 327kB 2.6MB/s \n",
            "\u001b[?25hCollecting mccabe<0.7,>=0.6\n",
            "  Downloading https://files.pythonhosted.org/packages/87/89/479dc97e18549e21354893e4ee4ef36db1d237534982482c3681ee6e7b57/mccabe-0.6.1-py2.py3-none-any.whl\n",
            "Requirement already satisfied: toml>=0.7.1 in /usr/local/lib/python3.6/dist-packages (from pylint) (0.10.1)\n",
            "Collecting astroid<=2.5,>=2.4.0\n",
            "\u001b[?25l  Downloading https://files.pythonhosted.org/packages/24/a8/5133f51967fb21e46ee50831c3f5dda49e976b7f915408d670b1603d41d6/astroid-2.4.2-py3-none-any.whl (213kB)\n",
            "\u001b[K     |████████████████████████████████| 215kB 8.7MB/s \n",
            "\u001b[?25hCollecting isort<6,>=4.2.5\n",
            "\u001b[?25l  Downloading https://files.pythonhosted.org/packages/d1/25/7ed95ccb07d3ce52598f5a57d002da6a18074ea8749991b10936cc20e539/isort-5.5.2-py3-none-any.whl (95kB)\n",
            "\u001b[K     |████████████████████████████████| 102kB 6.8MB/s \n",
            "\u001b[?25hRequirement already satisfied: wrapt~=1.11 in /usr/local/lib/python3.6/dist-packages (from astroid<=2.5,>=2.4.0->pylint) (1.12.1)\n",
            "Collecting typed-ast<1.5,>=1.4.0; implementation_name == \"cpython\" and python_version < \"3.8\"\n",
            "\u001b[?25l  Downloading https://files.pythonhosted.org/packages/90/ed/5459080d95eb87a02fe860d447197be63b6e2b5e9ff73c2b0a85622994f4/typed_ast-1.4.1-cp36-cp36m-manylinux1_x86_64.whl (737kB)\n",
            "\u001b[K     |████████████████████████████████| 747kB 10.3MB/s \n",
            "\u001b[?25hCollecting lazy-object-proxy==1.4.*\n",
            "\u001b[?25l  Downloading https://files.pythonhosted.org/packages/0b/dd/b1e3407e9e6913cf178e506cd0dee818e58694d9a5cd1984e3f6a8b9a10f/lazy_object_proxy-1.4.3-cp36-cp36m-manylinux1_x86_64.whl (55kB)\n",
            "\u001b[K     |████████████████████████████████| 61kB 7.1MB/s \n",
            "\u001b[?25hRequirement already satisfied: six~=1.12 in /usr/local/lib/python3.6/dist-packages (from astroid<=2.5,>=2.4.0->pylint) (1.15.0)\n",
            "Installing collected packages: mccabe, typed-ast, lazy-object-proxy, astroid, isort, pylint\n",
            "Successfully installed astroid-2.4.2 isort-5.5.2 lazy-object-proxy-1.4.3 mccabe-0.6.1 pylint-2.6.0 typed-ast-1.4.1\n"
          ],
          "name": "stdout"
        }
      ]
    },
    {
      "cell_type": "code",
      "metadata": {
        "id": "lpp10dBWqqZs",
        "colab_type": "code",
        "colab": {
          "base_uri": "https://localhost:8080/",
          "height": 34
        },
        "outputId": "0027e65d-814e-4e6a-be72-88b84d0938b4"
      },
      "source": [
        "%%writefile primeNumberTest.py\n",
        "'''\n",
        "Program for testing Prime number\n",
        "'''\n",
        "def primeNoTest(num):  \n",
        "    for i in range(2, num):  \n",
        "        if (num % i) == 0:  \n",
        "            print(num, \"is not a prime number\")  \n",
        "            break  \n",
        "        else:  \n",
        "            print(num, \"is a prime number\") \n",
        "            break    "
      ],
      "execution_count": null,
      "outputs": [
        {
          "output_type": "stream",
          "text": [
            "Writing primeNumberTest.py\n"
          ],
          "name": "stdout"
        }
      ]
    },
    {
      "cell_type": "code",
      "metadata": {
        "id": "NCWQ2kobqv19",
        "colab_type": "code",
        "colab": {
          "base_uri": "https://localhost:8080/",
          "height": 306
        },
        "outputId": "daba2ca5-2e2e-4d90-8638-76966eaa62e3"
      },
      "source": [
        "! pylint \"primeNumberTest.py\""
      ],
      "execution_count": null,
      "outputs": [
        {
          "output_type": "stream",
          "text": [
            "************* Module primeNumberTest\n",
            "primeNumberTest.py:4:21: C0303: Trailing whitespace (trailing-whitespace)\n",
            "primeNumberTest.py:5:27: C0303: Trailing whitespace (trailing-whitespace)\n",
            "primeNumberTest.py:6:26: C0303: Trailing whitespace (trailing-whitespace)\n",
            "primeNumberTest.py:7:47: C0303: Trailing whitespace (trailing-whitespace)\n",
            "primeNumberTest.py:8:17: C0303: Trailing whitespace (trailing-whitespace)\n",
            "primeNumberTest.py:9:13: C0303: Trailing whitespace (trailing-whitespace)\n",
            "primeNumberTest.py:10:43: C0303: Trailing whitespace (trailing-whitespace)\n",
            "primeNumberTest.py:11:0: C0304: Final newline missing (missing-final-newline)\n",
            "primeNumberTest.py:1:0: C0103: Module name \"primeNumberTest\" doesn't conform to snake_case naming style (invalid-name)\n",
            "primeNumberTest.py:4:0: C0103: Function name \"primeNoTest\" doesn't conform to snake_case naming style (invalid-name)\n",
            "primeNumberTest.py:4:0: C0116: Missing function or method docstring (missing-function-docstring)\n",
            "primeNumberTest.py:6:8: R1723: Unnecessary \"else\" after \"break\" (no-else-break)\n",
            "\n",
            "------------------------------------\n",
            "Your code has been rated at -7.14/10\n",
            "\n"
          ],
          "name": "stdout"
        }
      ]
    },
    {
      "cell_type": "code",
      "metadata": {
        "id": "0_4e7gSCq8Qe",
        "colab_type": "code",
        "colab": {
          "base_uri": "https://localhost:8080/",
          "height": 34
        },
        "outputId": "601ad011-983d-4f29-a4d6-86de6d0767e0"
      },
      "source": [
        "%%writefile primeChk.py\n",
        "\n",
        "import unittest\n",
        "import primeNumberTest\n",
        "\n",
        "class testP(unittest.TestCase):\n",
        "    def testP(self):\n",
        "        primeNumberTest.primeNoTest(7)\n",
        "        self.assertEquals(True)\n",
        "        \n",
        "if __name__ == '__main__': \n",
        "    unittest.main() "
      ],
      "execution_count": null,
      "outputs": [
        {
          "output_type": "stream",
          "text": [
            "Writing primeChk.py\n"
          ],
          "name": "stdout"
        }
      ]
    },
    {
      "cell_type": "code",
      "metadata": {
        "id": "Mjt86ycTrFAa",
        "colab_type": "code",
        "colab": {
          "base_uri": "https://localhost:8080/",
          "height": 289
        },
        "outputId": "bc346273-4ba7-4623-dd1d-5af6c8098feb"
      },
      "source": [
        "! python primeChk.py"
      ],
      "execution_count": null,
      "outputs": [
        {
          "output_type": "stream",
          "text": [
            "7 is a prime number\n",
            "E\n",
            "======================================================================\n",
            "ERROR: testP (__main__.testP)\n",
            "----------------------------------------------------------------------\n",
            "Traceback (most recent call last):\n",
            "  File \"primeChk.py\", line 8, in testP\n",
            "    self.assertEquals(True)\n",
            "  File \"/usr/lib/python3.6/unittest/case.py\", line 1321, in deprecated_func\n",
            "    return original_func(*args, **kwargs)\n",
            "TypeError: assertEqual() missing 1 required positional argument: 'second'\n",
            "\n",
            "----------------------------------------------------------------------\n",
            "Ran 1 test in 0.001s\n",
            "\n",
            "FAILED (errors=1)\n"
          ],
          "name": "stdout"
        }
      ]
    },
    {
      "cell_type": "code",
      "metadata": {
        "id": "TQ8oy6aCrffH",
        "colab_type": "code",
        "colab": {
          "base_uri": "https://localhost:8080/",
          "height": 34
        },
        "outputId": "96942ee7-2a5c-489a-ac28-316a7aa12518"
      },
      "source": [
        "import primeNumberTest\n",
        "\n",
        "primeNumberTest.primeNoTest(7)\n"
      ],
      "execution_count": null,
      "outputs": [
        {
          "output_type": "stream",
          "text": [
            "7 is a prime number\n"
          ],
          "name": "stdout"
        }
      ]
    },
    {
      "cell_type": "code",
      "metadata": {
        "id": "7uBiPti9rj82",
        "colab_type": "code",
        "colab": {}
      },
      "source": [
        "#Assignment 2"
      ],
      "execution_count": null,
      "outputs": []
    },
    {
      "cell_type": "code",
      "metadata": {
        "id": "s0OmBAhBrpeH",
        "colab_type": "code",
        "colab": {}
      },
      "source": [
        "def armsGeneratorFun():\n",
        "\n",
        "    for num in range(1,10000):\n",
        "        temp=num\n",
        "        sum=0\n",
        "        while temp>0:\n",
        "            digit=temp%10\n",
        "            sum=sum+digit**3\n",
        "            temp=temp//10\n",
        "\n",
        "    if sum==num:\n",
        "         yield num"
      ],
      "execution_count": null,
      "outputs": []
    },
    {
      "cell_type": "code",
      "metadata": {
        "id": "o7b_hg9ir39x",
        "colab_type": "code",
        "colab": {
          "base_uri": "https://localhost:8080/",
          "height": 34
        },
        "outputId": "4bc27775-582e-440b-b14c-3264c70ce764"
      },
      "source": [
        "armsGeneratorFun()"
      ],
      "execution_count": null,
      "outputs": [
        {
          "output_type": "execute_result",
          "data": {
            "text/plain": [
              "<generator object armsGeneratorFun at 0x7f357f5fcbf8>"
            ]
          },
          "metadata": {
            "tags": []
          },
          "execution_count": 9
        }
      ]
    }
  ]
}